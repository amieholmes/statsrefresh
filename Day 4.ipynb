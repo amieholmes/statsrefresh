{
 "cells": [
  {
   "cell_type": "code",
   "execution_count": 1,
   "metadata": {},
   "outputs": [],
   "source": [
    "import numpy as np\n",
    "import pandas as pd\n",
    "from matplotlib import pyplot as plt\n",
    "from scipy import stats"
   ]
  },
  {
   "cell_type": "code",
   "execution_count": 5,
   "metadata": {},
   "outputs": [],
   "source": [
    "samples = pd.read_csv('individual_samples.csv')\n",
    "pair = pd.read_csv('paired_samples.csv')"
   ]
  },
  {
   "cell_type": "code",
   "execution_count": 6,
   "metadata": {},
   "outputs": [
    {
     "data": {
      "text/html": [
       "<div>\n",
       "<style scoped>\n",
       "    .dataframe tbody tr th:only-of-type {\n",
       "        vertical-align: middle;\n",
       "    }\n",
       "\n",
       "    .dataframe tbody tr th {\n",
       "        vertical-align: top;\n",
       "    }\n",
       "\n",
       "    .dataframe thead th {\n",
       "        text-align: right;\n",
       "    }\n",
       "</style>\n",
       "<table border=\"1\" class=\"dataframe\">\n",
       "  <thead>\n",
       "    <tr style=\"text-align: right;\">\n",
       "      <th></th>\n",
       "      <th>demo1</th>\n",
       "      <th>demo2</th>\n",
       "      <th>sample1</th>\n",
       "      <th>sample2</th>\n",
       "      <th>sample3</th>\n",
       "      <th>sample4</th>\n",
       "    </tr>\n",
       "  </thead>\n",
       "  <tbody>\n",
       "    <tr>\n",
       "      <th>0</th>\n",
       "      <td>64.11</td>\n",
       "      <td>39.423287</td>\n",
       "      <td>77.78</td>\n",
       "      <td>3.617311</td>\n",
       "      <td>4028.344659</td>\n",
       "      <td>954.66</td>\n",
       "    </tr>\n",
       "    <tr>\n",
       "      <th>1</th>\n",
       "      <td>61.00</td>\n",
       "      <td>209.039023</td>\n",
       "      <td>70.17</td>\n",
       "      <td>13.572407</td>\n",
       "      <td>15165.030266</td>\n",
       "      <td>1523.97</td>\n",
       "    </tr>\n",
       "    <tr>\n",
       "      <th>2</th>\n",
       "      <td>69.50</td>\n",
       "      <td>390.874071</td>\n",
       "      <td>91.70</td>\n",
       "      <td>13.997737</td>\n",
       "      <td>35529.476493</td>\n",
       "      <td>832.28</td>\n",
       "    </tr>\n",
       "    <tr>\n",
       "      <th>3</th>\n",
       "      <td>62.19</td>\n",
       "      <td>191.839272</td>\n",
       "      <td>112.21</td>\n",
       "      <td>4.899364</td>\n",
       "      <td>1136.497236</td>\n",
       "      <td>1071.03</td>\n",
       "    </tr>\n",
       "    <tr>\n",
       "      <th>4</th>\n",
       "      <td>62.48</td>\n",
       "      <td>81.451570</td>\n",
       "      <td>89.09</td>\n",
       "      <td>14.502589</td>\n",
       "      <td>54345.524376</td>\n",
       "      <td>987.99</td>\n",
       "    </tr>\n",
       "  </tbody>\n",
       "</table>\n",
       "</div>"
      ],
      "text/plain": [
       "   demo1       demo2  sample1    sample2       sample3  sample4\n",
       "0  64.11   39.423287    77.78   3.617311   4028.344659   954.66\n",
       "1  61.00  209.039023    70.17  13.572407  15165.030266  1523.97\n",
       "2  69.50  390.874071    91.70  13.997737  35529.476493   832.28\n",
       "3  62.19  191.839272   112.21   4.899364   1136.497236  1071.03\n",
       "4  62.48   81.451570    89.09  14.502589  54345.524376   987.99"
      ]
     },
     "execution_count": 6,
     "metadata": {},
     "output_type": "execute_result"
    }
   ],
   "source": [
    "samples.head()"
   ]
  },
  {
   "cell_type": "code",
   "execution_count": 8,
   "metadata": {},
   "outputs": [
    {
     "data": {
      "image/png": "[encoded data removed]",
      "text/plain": [
       "<Figure size 432x288 with 1 Axes>"
      ]
     },
     "metadata": {
      "needs_background": "light"
     },
     "output_type": "display_data"
    }
   ],
   "source": [
    "plt.hist(samples.demo1, bins=20);"
   ]
  },
  {
   "cell_type": "code",
   "execution_count": null,
   "metadata": {},
   "outputs": [],
   "source": []
  }
 ],
 "metadata": {
  "kernelspec": {
   "display_name": "Python 3",
   "language": "python",
   "name": "python3"
  },
  "language_info": {
   "codemirror_mode": {
    "name": "ipython",
    "version": 3
   },
   "file_extension": ".py",
   "mimetype": "text/x-python",
   "name": "python",
   "nbconvert_exporter": "python",
   "pygments_lexer": "ipython3",
   "version": "3.8.5"
  }
 },
 "nbformat": 4,
 "nbformat_minor": 4
}
